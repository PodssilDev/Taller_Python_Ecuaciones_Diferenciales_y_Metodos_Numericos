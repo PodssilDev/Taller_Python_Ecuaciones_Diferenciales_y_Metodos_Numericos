{
 "cells": [
  {
   "cell_type": "markdown",
   "id": "847dd249",
   "metadata": {},
   "source": [
    "## TALLER 2 ECUACIONES DIFERENCIALES Y MÉTODOS NUMÉRICOS - FORMA A\n",
    "* Nombre: John Serrano Carrasco \n",
    "* Sección: 13307-A-1\n",
    "* Profesor de Teoría: Jarnishs Beltran\n",
    "* Profesor de Laboratorio: Eduardo Díaz"
   ]
  },
  {
   "cell_type": "markdown",
   "id": "843aaa9e",
   "metadata": {},
   "source": [
    "## PROBLEMA 1\n",
    "El número áureo φ satisface la ecuación\n",
    "$$ φ = 1+ \\frac{1}{φ}, $$\n",
    "de donde se puede obtener de manera relativamente sencilla que\n",
    "$$ φ = \\frac{1+\\sqrt5}{2} $$"
   ]
  },
  {
   "cell_type": "markdown",
   "id": "b9b1afda",
   "metadata": {},
   "source": [
    "### a) Calcule directamente en Python el valor de φ."
   ]
  },
  {
   "cell_type": "code",
   "execution_count": 1,
   "id": "454da755",
   "metadata": {},
   "outputs": [],
   "source": [
    "# Se importa Matplotlib.pyplot como plt para trabajar con graficos\n",
    "import matplotlib.pyplot as plt\n",
    "# Se importa numpy como np para trabajar con arreglos\n",
    "import numpy as np\n"
   ]
  },
  {
   "cell_type": "code",
   "execution_count": 2,
   "id": "d567944e",
   "metadata": {},
   "outputs": [
    {
     "name": "stdout",
     "output_type": "stream",
     "text": [
      "El numero aureo es 1.618033988749895\n"
     ]
    }
   ],
   "source": [
    "# Calculando el numero aureo se tiene\n",
    "aureo = (1 + (np.sqrt(5)))/2\n",
    "print(\"El numero aureo es\", aureo)\n"
   ]
  },
  {
   "cell_type": "markdown",
   "id": "e8be3c60",
   "metadata": {},
   "source": [
    "### b) Defina una función adecuada para utilizar el método de la bisección y aproxime el valor de φ, justificando la elección del intervalo elegido, con una tolerancia de $0,000001$.\n"
   ]
  },
  {
   "cell_type": "markdown",
   "id": "92123a6a",
   "metadata": {},
   "source": [
    "Considerando que $$ φ = \\frac{1+\\sqrt5}{2} $$\n",
    "Se puede obtener que una función valida para ser utilizada con el método de la bisección es:\n",
    "$$ f(φ,y) = \\frac{1+\\sqrt5}{2} - φ = 0  $$\n",
    "Esto debido a que $ φ = \\frac{1+\\sqrt5}{2} $ es una raiz de la sección anterior. Ahora, para encontrar los intervalos, podemos jugar un poco con el número φ para encontrar los intervalos a utilizar en el método de la bisección.\n",
    "Considerando que: $$ \\sqrt4 < \\sqrt5 < \\sqrt9$$\n",
    "Es decir: $$ 2 < \\sqrt5 < 3 $$\n",
    "Sumando 1: $$ 2 + 1 < \\sqrt5 + 1 < 3 + 1 $$\n",
    "Diviendo por 2: $$ \\frac{3}{2} < \\frac{\\sqrt5 + 1}{2} < \\frac{4}{2} $$\n",
    "Reescribiendo lo anterior tenemos: $$ \\frac{3}{2} < φ  < 2 $$\n",
    "Por lo que nuestro intervalo es: $$[\\frac{3}{2},2] $$\n",
    "Podemos comprobar que el intervalo sea valido si se cumple el teorema de Bolzano:\n",
    "\n",
    "$$f(a)* f(b) < 0 $$\n",
    "Comprobando: $$f(\\frac{3}{2}) = \\frac{1+\\sqrt5}{2} - \\frac{3}{2} $$\n",
    "\n",
    "$$f(\\frac{3}{2}) = 0,11803.. $$\n",
    "\n",
    "$$f(2) = \\frac{1+\\sqrt5}{2} - 2 $$\n",
    "\n",
    "$$f(2) = -0,38196$$\n",
    "\n",
    "Por lo que claramente, se cumple que $$f(\\frac{3}{2})*f(2)<0$$\n",
    "\n",
    "Considerando lo anterior y que tolerancia = $0,000001$, utizaremos el método de la bisección para aproximar el valor de φ"
   ]
  },
  {
   "cell_type": "code",
   "execution_count": 3,
   "id": "56d65915",
   "metadata": {},
   "outputs": [
    {
     "name": "stdout",
     "output_type": "stream",
     "text": [
      "El valor aproximado de φ con el metodo de la biseccion es: 1.6180334091186523\n"
     ]
    }
   ],
   "source": [
    "# Definimos la funcion a utilizar\n",
    "def f(φ): return (1 + (np.sqrt(5)))/2 - φ\n",
    "\n",
    "# Definimos el metodo de biseccion visto en clases\n",
    "def biseccion (a,b,f,tolerancia):\n",
    "    while (np.abs(a-b)>= tolerancia):\n",
    "        xi = (a+b)/2\n",
    "        prod = f(a)  * f(xi)\n",
    "        if prod < 0:\n",
    "            b = xi\n",
    "        else:\n",
    "            if prod > 0:\n",
    "                a = xi\n",
    "            else:\n",
    "                if prod == 0:\n",
    "                    a = xi\n",
    "                    b = xi\n",
    "    return xi\n",
    "\n",
    "solucion = biseccion(1.5, 2, f, 0.000001)\n",
    "print(\"El valor aproximado de φ con el metodo de la biseccion es:\", solucion)\n"
   ]
  },
  {
   "cell_type": "markdown",
   "id": "3135b0d0",
   "metadata": {},
   "source": [
    "### c) El método de la secante es una variación del método de Newton Rhapson, donde en vez de calcular la derivada de la función, ésta se sustituye por una aproximación de la pendiente de la recta tangente $f'(X_n) ≈ \\frac{f(X_n)-f(Xn-1)}{X_n-X_n-1} $ resultando en el siguiente algoritmo \n",
    "### * Datos de entrada: $X_0$, $X_1$, tolerancia, función\n",
    "### * Para n = 1,2,3 calcular\n",
    "### $$ X_n+1 = X_n - [\\frac{X_n - X_n-1)}{f(X_n)-f(X_n-1)}]f(X_n) $$\n",
    "### hasta que $|X_n+1 - X_n|$ < tolerancia\n",
    "### Elabore un código en Python para dicho algoritmo"
   ]
  },
  {
   "cell_type": "code",
   "execution_count": 4,
   "id": "95a7a9e2",
   "metadata": {},
   "outputs": [],
   "source": [
    "# Definimos el metodo de la secante basado en el enunciado anterior\n",
    "def secante(x0,x1,tolerancia,f):\n",
    "    while True:\n",
    "        # Se aplica la formula dada\n",
    "        x2 = x1 - (f(x1)*(x1-x0))/(f(x1)-f(x0))\n",
    "        x0 = x1\n",
    "        x1 = x2\n",
    "        # Se comprueba si se debe acabar el ciclo\n",
    "        if np.abs(x1-x0)< tolerancia:\n",
    "            # Se rompe el ciclo\n",
    "            break\n",
    "    # Se retorna el valor final de x2\n",
    "    return x2\n"
   ]
  },
  {
   "cell_type": "markdown",
   "id": "58bf905d",
   "metadata": {},
   "source": [
    "### d) Utilice el código del item (c) con una tolerancia de 0,000001 para encontrar una aproximación de φ.\n"
   ]
  },
  {
   "cell_type": "code",
   "execution_count": 5,
   "id": "9bbbaaf6",
   "metadata": {},
   "outputs": [
    {
     "name": "stdout",
     "output_type": "stream",
     "text": [
      "La aproximacion de φ con el metodo de la secante es: 1.618033988749895\n"
     ]
    }
   ],
   "source": [
    "# Llamamos a la funcion secante con x0 = 1 y x2 = 2, ambos valores cercanos al numero aureo\n",
    "aureo_secante = secante(1,2,0.000001, f)\n",
    "# Se imprime el resultado\n",
    "print(\"La aproximacion de φ con el metodo de la secante es:\", aureo_secante)\n"
   ]
  },
  {
   "cell_type": "markdown",
   "id": "b6e076c1",
   "metadata": {},
   "source": [
    "### e) Suponga que el valor máquina encontrado en (a) es el valor real de φ. Calcule el error cometido con cada uno de los métodos y concluya cuál de ellos entrega una mejor aproximación."
   ]
  },
  {
   "cell_type": "code",
   "execution_count": 6,
   "id": "256d40d5",
   "metadata": {},
   "outputs": [
    {
     "name": "stdout",
     "output_type": "stream",
     "text": [
      "El numero aureo es: 1.618033988749895\n",
      "La aproximacion con el metodo de la biseccion es: 1.6180334091186523\n",
      "La aproximacion con el metodo de la secante es: 1.618033988749895\n",
      "\n",
      "\n",
      "El error absoluto con el metodo de la biseccion es: 5.796312425587757e-07\n",
      "El error absoluto con el metodo de la secante es: 0.0\n"
     ]
    }
   ],
   "source": [
    "print(\"El numero aureo es:\", aureo)\n",
    "print(\"La aproximacion con el metodo de la biseccion es:\", solucion)\n",
    "print(\"La aproximacion con el metodo de la secante es:\", aureo_secante)\n",
    "print(\"\\n\")\n",
    "\n",
    "# Procedemos a calcular los errores:\n",
    "\n",
    "error_biseccion = np.abs(solucion - aureo)\n",
    "error_aureo_secante = np.abs(aureo_secante - aureo)\n",
    "print(\"El error absoluto con el metodo de la biseccion es:\", error_biseccion)\n",
    "print(\"El error absoluto con el metodo de la secante es:\", error_aureo_secante)\n"
   ]
  },
  {
   "cell_type": "markdown",
   "id": "821d354a",
   "metadata": {},
   "source": [
    "#### Por lo tanto, se puede concluir que la mejor aproximación es el Método de la Secante, ya que no tiene error alguno, siendo el valor de la aproximación exactamente igual al valor real (Si es que asumimos que el valor calculado en a) es el real."
   ]
  },
  {
   "cell_type": "code",
   "execution_count": null,
   "id": "28d8f1e1",
   "metadata": {},
   "outputs": [],
   "source": []
  }
 ],
 "metadata": {
  "kernelspec": {
   "display_name": "Python 3 (ipykernel)",
   "language": "python",
   "name": "python3"
  },
  "language_info": {
   "codemirror_mode": {
    "name": "ipython",
    "version": 3
   },
   "file_extension": ".py",
   "mimetype": "text/x-python",
   "name": "python",
   "nbconvert_exporter": "python",
   "pygments_lexer": "ipython3",
   "version": "3.9.7"
  }
 },
 "nbformat": 4,
 "nbformat_minor": 5
}
