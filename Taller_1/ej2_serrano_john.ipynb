{
 "cells": [
  {
   "cell_type": "markdown",
   "id": "5fe47122",
   "metadata": {},
   "source": [
    "## TALLER 1 ECUACIONES DIFERENCIALES Y MÉTODOS NUMÉRICOS - FORMA A\n",
    "* Nombre: John Serrano Carrasco \n",
    "* Sección: 13307-A-1\n",
    "* Profesor de Teoría: Jarnishs Beltran\n",
    "* Profesor de Laboratorio: Eduardo Díaz"
   ]
  },
  {
   "cell_type": "markdown",
   "id": "63288b5e",
   "metadata": {},
   "source": [
    "## PROBLEMA 2\n",
    "Considere el PVI dado por: $$ y'-\\frac{y}{x} = 1 ; y(1) = 2.$$\n"
   ]
  },
  {
   "cell_type": "markdown",
   "id": "5da34121",
   "metadata": {},
   "source": [
    "### a)  Determine una aproximación de y(10) utilizando el método de Euler mejorado considerando h = 0, 2.\n"
   ]
  },
  {
   "cell_type": "markdown",
   "id": "4f3de8c7",
   "metadata": {},
   "source": [
    "Método de Euler Mejorado:\n",
    "Para $i=0,1, ... , n-1$ realizar <br>\n",
    "*    $ x_i = x_0+ih $ <br>\n",
    "*    $y_{i+1}^*= y_i +h f(x_i , y_i) $ <br>\n",
    "*    $y_{i+1} = y_i + \\dfrac{h}{2} \\left[ f(x_i , y_i) + f(x_{i+1}, y_{i+1}^*) \\right] $ <br>"
   ]
  },
  {
   "cell_type": "code",
   "execution_count": 1,
   "id": "b5546080",
   "metadata": {},
   "outputs": [],
   "source": [
    "# Se importa Matplotlib.pyplot como plt para trabajar con graficos\n",
    "import matplotlib.pyplot as plt\n",
    "# Se importa numpy como np para trabajar con arreglos\n",
    "import numpy as np\n"
   ]
  },
  {
   "cell_type": "code",
   "execution_count": 2,
   "id": "96fb78b3",
   "metadata": {},
   "outputs": [],
   "source": [
    "# Primero, debemos definir el Metodo de Euler (o Metodo de Runge Kutta de Orden 2) para poder trabajar con este.\n",
    "# Se utiliza el codigo desarrollado en clases, el cual traduce el algoritmo visto en clases.\n",
    "def RK2(f, x0, xn, y0, n):\n",
    "    X=np.linspace(x0, xn, n+1)\n",
    "    Y=np.linspace(x0, xn, n+1)\n",
    "    Y[0]=y0\n",
    "    h=(xn - x0)/n\n",
    "    \n",
    "    for i in range(n):\n",
    "        Y[i+1] = Y[i]+(h/2)*(f(X[i],Y[i])+f(X[i+1], Y[i]+h*f(X[i], Y[i])))\n",
    "    \n",
    "    salida = dict() # Se crea un diccionario, esto hara que sea mas facil graficar la informacion obtenida.\n",
    "    salida['x'] = X\n",
    "    salida['y'] = Y\n",
    "    \n",
    "    return salida\n"
   ]
  },
  {
   "cell_type": "code",
   "execution_count": 3,
   "id": "996c2415",
   "metadata": {},
   "outputs": [
    {
     "data": {
      "text/plain": [
       "{'x': array([ 1. ,  1.2,  1.4,  1.6,  1.8,  2. ,  2.2,  2.4,  2.6,  2.8,  3. ,\n",
       "         3.2,  3.4,  3.6,  3.8,  4. ,  4.2,  4.4,  4.6,  4.8,  5. ,  5.2,\n",
       "         5.4,  5.6,  5.8,  6. ,  6.2,  6.4,  6.6,  6.8,  7. ,  7.2,  7.4,\n",
       "         7.6,  7.8,  8. ,  8.2,  8.4,  8.6,  8.8,  9. ,  9.2,  9.4,  9.6,\n",
       "         9.8, 10. ]),\n",
       " 'y': array([ 2.        ,  2.61666667,  3.26706349,  3.94628685,  4.65068382,\n",
       "         5.37742646,  6.12426002,  6.88934426,  7.67114859,  8.4683798 ,\n",
       "         9.27993074, 10.10484279, 10.94227781, 11.79149677, 12.65184308,\n",
       "        13.52272956, 14.40362794, 15.29406044, 16.19359283, 17.10182876,\n",
       "        18.01840495, 18.94298731, 19.87526744, 20.81495989, 21.76179959,\n",
       "        22.7155398 , 23.67595027, 24.6428156 , 25.61593389, 26.59511549,\n",
       "        27.58018191, 28.57096489, 29.5673055 , 30.56905345, 31.57606633,\n",
       "        32.58820905, 33.6053533 , 34.62737702, 35.65416396, 36.68560329,\n",
       "        37.72158922, 38.76202067, 39.80680096, 40.8558375 , 41.9090416 ,\n",
       "        42.96632816])}"
      ]
     },
     "execution_count": 3,
     "metadata": {},
     "output_type": "execute_result"
    }
   ],
   "source": [
    "def f_1(X,Y): return (1 + (Y/X)) # Se define la funcion del enunciado\n",
    "RK2(f_1, 1, 10, 2, 45) # Se llama al metodo de Euler Mejorado. \n",
    "# Notar que: x0 = 1 ; xn = 10 ; y0 = 2; n = 45 (n = 45 debido a h= 0.2, pues se despeja n de h = (xn-x0)/n)\n"
   ]
  },
  {
   "cell_type": "markdown",
   "id": "84fdfd77",
   "metadata": {},
   "source": [
    "#### La aproximación de y(10) utilizando el Metodo de Euler Mejorado es 42,966328162513.."
   ]
  },
  {
   "cell_type": "markdown",
   "id": "3160d72a",
   "metadata": {},
   "source": [
    "### b) Determine una aproximacion de y(10) utilizando el metodo de Runge Kutta de orden 4 considerando h = 0, 5."
   ]
  },
  {
   "cell_type": "markdown",
   "id": "5fe4d8e2",
   "metadata": {},
   "source": [
    "Método de Runge Kutta de Orden 4: \n",
    "Para $i=0,1, ... , n-1$ realizar <br>\n",
    "\n",
    "*    $ x_i = x_0+ih $ <br>\n",
    "\n",
    "*    $ K_1 = f(x_i,y_i) $ <br>\n",
    "\n",
    "*    $ K_2 = f\\left( x_i + \\dfrac{h}{2} , y_i + \\dfrac{h}{2} K_1 \\right) $ <br>\n",
    "\n",
    "*    $ K_3 = f\\left( x_i + \\dfrac{h}{2} , y_i + \\dfrac{h}{2} K_2 \\right) $ <br>\n",
    "\n",
    "*    $ K_4 = f\\left( x_i + h , y_i + h K_3 \\right) $ <br>\n",
    "\n",
    "*    $y_{i+1} = y_i + \\dfrac{h}{6} \\left[ K_1 + 2K_2 + 2K_3 + K_4 \\right] $ <br>"
   ]
  },
  {
   "cell_type": "code",
   "execution_count": 4,
   "id": "ca89769b",
   "metadata": {},
   "outputs": [],
   "source": [
    "# Primero, debemos definir el Metodo de Runge Kutta de Orden 4 para poder trabajar con este.\n",
    "# Se utiliza el codigo desarrollado en clases, el cual traduce el algoritmo visto en clases.\n",
    "def RK4(f, x0, xn, y0, n):\n",
    "    X=np.linspace(x0, xn, n+1)\n",
    "    Y=np.linspace(x0, xn, n+1)\n",
    "    Y[0]=y0\n",
    "    h=(xn - x0)/n\n",
    "    \n",
    "    for i in range(n):\n",
    "        K1 = f(X[i],Y[i])\n",
    "        K2 = f(X[i]+ (h/2),Y[i]+(h/2)*K1)\n",
    "        K3 = f(X[i]+(h/2), Y[i]+(h/2)*K2)\n",
    "        K4 = f(X[i]+h, Y[i]+h*K3)\n",
    "        Y[i+1]=Y[i]+(h/6)*(K1+2*K2+2*K3+K4)\n",
    "        \n",
    "    ret = dict() # Se crea un diccionario. Esto hara que sea mas facil graficar la informacion obtenida.\n",
    "    ret['x'] = X\n",
    "    ret['y'] = Y\n",
    "    \n",
    "    return ret\n"
   ]
  },
  {
   "cell_type": "code",
   "execution_count": 5,
   "id": "49a3b83b",
   "metadata": {},
   "outputs": [
    {
     "data": {
      "text/plain": [
       "{'x': array([ 1. ,  1.5,  2. ,  2.5,  3. ,  3.5,  4. ,  4.5,  5. ,  5.5,  6. ,\n",
       "         6.5,  7. ,  7.5,  8. ,  8.5,  9. ,  9.5, 10. ]),\n",
       " 'y': array([ 2.        ,  3.60777778,  5.38562547,  7.28985077,  9.29476766,\n",
       "        11.38341378, 13.54373612, 15.76672364, 18.04538238, 20.37412525,\n",
       "        22.74838577, 25.16436151, 27.61883693, 30.10905716, 32.63263552,\n",
       "        35.1874843 , 37.77176187, 40.38383154, 43.02222919])}"
      ]
     },
     "execution_count": 5,
     "metadata": {},
     "output_type": "execute_result"
    }
   ],
   "source": [
    "RK4(f_1, 1, 10, 2, 18) # Se llama al Metodo de Runge Kutta de Orden 4\n",
    "# Notar que: x0 = 1 ; xn = 10 ; y0 = 2; n = 18 (n = 18 debido a h= 0.5, pues se despeja n de h = (xn-x0)/n)\n"
   ]
  },
  {
   "cell_type": "markdown",
   "id": "22af9a13",
   "metadata": {},
   "source": [
    "#### La aproximación de y(10) utilizando el Método de Runge Kutta de Orden 4 es 43.02222919019276.."
   ]
  },
  {
   "cell_type": "markdown",
   "id": "a46420cd",
   "metadata": {},
   "source": [
    "### c)  Encuentre la solución exacta explícita del PVI."
   ]
  },
  {
   "cell_type": "markdown",
   "id": "af510b95",
   "metadata": {},
   "source": [
    "Para resolver el PVI, podemos utilizar el Método de Variable Separables:\n",
    "$$ \\dfrac{dy}{dx} = 1 + \\frac{y}{x} $$\n",
    "Utilizamos el cambio de variable: $$ z =\\frac{y}{x}$$\n",
    "Derivamos para obtener el equivalente a $\\dfrac{dy}{dx}$:\n",
    "$$ \\dfrac{dy}{dx} = x\\dfrac{dz}{dx} + z $$\n",
    "Ahora, nuestra ecuación queda de la siguiente manera:\n",
    "$$  x\\dfrac{dz}{dx} + z = 1 + z $$\n",
    "Dejando un solo tipo de variable en cada lado:\n",
    "$$ dz = \\dfrac{dx}{x}  $$\n",
    "Integrando en ambos lados:\n",
    "$$ \\int dz = \\int \\dfrac{dx}{x} $$\n",
    "\n",
    "$$ z = \\ln |x| + C $$\n",
    "Volviendo a las variables originales:\n",
    "$$ \\frac{y}{x} = \\ln |x| + C $$\n",
    "$$ y = x(\\ln |x| + C) $$\n",
    "\n",
    "Ahora debemos obtener el de la constante $C$, utilizando la información dada por el PVI: $y(1) = 2$. Reemplazando:\n",
    "$$ 2 = 1(\\ln |1| + C)$$\n",
    "Considerando que  $\\ln |1| = 0$:\n",
    "$$ 2 = C$$\n",
    "\n",
    "#### Por lo tanto, la solución exacta explicita de la EDO considerando la información dada por el PVI es:\n",
    "#### $$ y = x(\\ln |x| + 2) $$"
   ]
  },
  {
   "cell_type": "markdown",
   "id": "e4c64179",
   "metadata": {},
   "source": [
    "### d) Grafique en un mismo plano, la solución explícita y cada una de las aproximaciones encontradas en (a) y (b). Establezca a partir de éste, cuál de las aproximaciones tiene un error global más pequeño."
   ]
  },
  {
   "cell_type": "code",
   "execution_count": 6,
   "id": "3103373b",
   "metadata": {},
   "outputs": [
    {
     "data": {
      "image/png": "[encoded data removed]",
      "text/plain": [
       "<Figure size 432x288 with 1 Axes>"
      ]
     },
     "metadata": {
      "needs_background": "light"
     },
     "output_type": "display_data"
    }
   ],
   "source": [
    "eulerM = RK2(f_1, 1, 10, 2, 45) # Se llama al Metodo de Euler Mejorado\n",
    "X1 = eulerM['x'] # Se guarda el arreglo X\n",
    "Y1 = eulerM['y'] # Se guarda el arreglo Y\n",
    "plt.plot(X1,Y1, label = \"Euler Mejorado\") # Se grafica el Metodo de Euler Mejorado\n",
    "\n",
    "runge = RK4(f_1, 1, 10, 2, 18)  # Se llama al Metodo de Runge Kutta de Orden 4\n",
    "X2 = runge['x'] # Se guarda el arreglo X\n",
    "Y2 = runge ['y'] # Se guarda el arreglo Y\n",
    "plt.plot(X2,Y2, label = \"Runge Kutta 4\") # Se grafica el Metodo de Runge Kutta de Orden 4\n",
    "\n",
    "x = np.linspace (1,10,100) # Se crea un arreglo de 1 hasta 10 con 100 numeros\n",
    "y = x * (np.log(x) +2) # Se define la solucion exacta\n",
    "\n",
    "plt.plot(x,y, label = \"Sol. Exacta\") # Se grafica la solucion exacta\n",
    "\n",
    "plt.legend() # Se aplican las labels para identificar las graficas realizadas\n",
    "plt.grid() # Se agrega una malla de cuadros al fondo del grafico\n"
   ]
  },
  {
   "cell_type": "markdown",
   "id": "2f41e51f",
   "metadata": {},
   "source": [
    "Notese que el gráfico anterior no nos permité ver con claridad el error de los metodos utilizados con la solución exacta. Vamos a hacer un zoom:"
   ]
  },
  {
   "cell_type": "code",
   "execution_count": 7,
   "id": "4e76cb4b",
   "metadata": {},
   "outputs": [
    {
     "data": {
      "image/png": "[encoded data removed]",
      "text/plain": [
       "<Figure size 432x288 with 1 Axes>"
      ]
     },
     "metadata": {
      "needs_background": "light"
     },
     "output_type": "display_data"
    }
   ],
   "source": [
    "plt.plot(X1,Y1, label = \"Euler Mejorado\") # Se grafica el Metodo de Euler Mejorado\n",
    "plt.plot(X2,Y2, label = \"Runge Kutta 4\") # Se grafica el Metodo de Runge Kutta de Orden 4\n",
    "plt.plot(x,y, label = \"Sol. Exacta\") # Se grafica la solucion exacta\n",
    "\n",
    "plt.axis([9.9, 10.1, 42.8, 43]) # Se realiza un \"zoom\" en el grafico anterior\n",
    "plt.legend() # Se aplican las labels para identificar las graficas realizadas\n",
    "plt.grid() # Se agrega una malla de cuadros al fondo del grafico\n"
   ]
  },
  {
   "cell_type": "markdown",
   "id": "509cf5f3",
   "metadata": {},
   "source": [
    "#### Con este zoom realizado, claramente se puede ver que el Método que tiene menos error global es el Metodo de Runge Kutta de Orden 4. Esto es debido a que sus valores estan muchos mas cercanos a los valores reales de la solución exacta, comparado con el Método de Euler Mejorado cuyos valores están mas alejados."
   ]
  },
  {
   "cell_type": "markdown",
   "id": "afc6b1b9",
   "metadata": {},
   "source": [
    "### e) Calcule el error absoluto cometido en cada una de las aproximaciones y concluya cuál de ellas es una mejor aproximación de y(10)."
   ]
  },
  {
   "cell_type": "code",
   "execution_count": 8,
   "id": "79b68ac6",
   "metadata": {},
   "outputs": [
    {
     "name": "stdout",
     "output_type": "stream",
     "text": [
      "Considerando que: \n",
      "El valor real de y(10) es:  43.02585092994046\n",
      "La aproximacion de y(10) con el Metodo de Euler Mejorado es:  42.966328162513\n",
      "La aproximacion de y(10) con el Metodo de Runge Kutta de Orden 4 es:  43.02222919019276\n",
      "\n",
      "\n",
      "El error absoluto del Metodo de Euler Mejorado es:  0.059522767427459655\n",
      "El error absoluto del Metodo de Runge Kutta de Orden 4 es:  0.0036217397477003033\n"
     ]
    }
   ],
   "source": [
    "print(\"Considerando que: \")\n",
    "print(\"El valor real de y(10) es: \",(10 * (np.log(10) +2)))\n",
    "print(\"La aproximacion de y(10) con el Metodo de Euler Mejorado es: \", Y1[-1])\n",
    "print(\"La aproximacion de y(10) con el Metodo de Runge Kutta de Orden 4 es: \", Y2[-1])\n",
    "print(\"\\n\")\n",
    "\n",
    "error_eulerM = np.abs(Y1[-1] - (10 * (np.log(10) +2))) # Se calcula el error absoluto del Metodo de Euler Mejorado\n",
    "print(\"El error absoluto del Metodo de Euler Mejorado es: \", error_eulerM)\n",
    "error_RK4 = np.abs(Y2[-1] - (10 * (np.log(10) +2))) # Se calcula el error absoluto del Metodo de Runge Kutta de Orden 4\n",
    "print(\"El error absoluto del Metodo de Runge Kutta de Orden 4 es: \", error_RK4)\n"
   ]
  },
  {
   "cell_type": "markdown",
   "id": "3830b5c3",
   "metadata": {},
   "source": [
    "#### Por lo tanto, se puede concluir que la mejor aproximación para y(10) corresponde al Método de Runge Kutta de Orden 4 ya que su error es bastante pequeño y por lo tanto, la aproximación es bastante cercana al valor real."
   ]
  },
  {
   "cell_type": "code",
   "execution_count": null,
   "id": "343a1524",
   "metadata": {},
   "outputs": [],
   "source": []
  }
 ],
 "metadata": {
  "kernelspec": {
   "display_name": "Python 3 (ipykernel)",
   "language": "python",
   "name": "python3"
  },
  "language_info": {
   "codemirror_mode": {
    "name": "ipython",
    "version": 3
   },
   "file_extension": ".py",
   "mimetype": "text/x-python",
   "name": "python",
   "nbconvert_exporter": "python",
   "pygments_lexer": "ipython3",
   "version": "3.9.7"
  }
 },
 "nbformat": 4,
 "nbformat_minor": 5
}
